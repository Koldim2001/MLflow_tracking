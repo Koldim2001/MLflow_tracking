{
 "cells": [
  {
   "attachments": {},
   "cell_type": "markdown",
   "metadata": {},
   "source": [
    "## MLFLOW для экспериментов с PyTorch"
   ]
  },
  {
   "attachments": {},
   "cell_type": "markdown",
   "metadata": {},
   "source": [
    "__Как запустить сервер:__\n",
    "\n",
    "Команды терминала:\n",
    "\n",
    "Включим нужное окружение conda:\n",
    "\n",
    ">conda activate \"название окружения conda\"\n",
    "\n",
    "Запустим сервер:\n",
    "\n",
    ">mlflow server --backend-store-uri \"папка на компьютере, где будут храниться результаты\" --default-artifact-root \"папка на компьютере, где будут храниться артефакты\"\n",
    "\n",
    "В конце можно добавить нужный порт (автоматом 5000) --host localhost --port 5000\n",
    "\n",
    "пример:\n",
    ">mlflow server --backend-store-uri \"file:///C:/ML_flow_server/data_local\" --default-artifact-root \"file:///C:/ML_flow_server/artefacts\" --host localhost --port 5000\n",
    "\n",
    "\n",
    "По этой ссылке будет доступен MLflow:\n",
    "\n",
    "http://localhost:5000"
   ]
  },
  {
   "cell_type": "code",
   "execution_count": 1,
   "metadata": {},
   "outputs": [],
   "source": [
    "import os\n",
    "import random\n",
    "import logging\n",
    "\n",
    "import torch\n",
    "import mlflow\n",
    "import numpy as np # библиотека работы с матрицами на цпу\n",
    "import matplotlib.pyplot as plt # библиотека для отображения графиков и изображений\n",
    "import torchvision.transforms as transforms\n",
    "import torchvision.utils\n",
    "import torch.nn as nn\n",
    "\n",
    "%matplotlib inline"
   ]
  },
  {
   "cell_type": "code",
   "execution_count": 2,
   "metadata": {},
   "outputs": [],
   "source": [
    "# Укажем юзера который делает эксперименты\n",
    "os.environ['USER'] = 'Dima Kolesnikov'"
   ]
  },
  {
   "cell_type": "code",
   "execution_count": 3,
   "metadata": {},
   "outputs": [],
   "source": [
    "# Установка Seed для воспроизводимости\n",
    "seed = 42\n",
    "torch.manual_seed(seed)\n",
    "torch.cuda.manual_seed(seed)\n",
    "torch.cuda.manual_seed_all(seed)\n",
    "np.random.seed(seed)\n",
    "random.seed(seed)\n",
    "torch.backends.cudnn.benchmark = False\n",
    "torch.backends.cudnn.deterministic = True"
   ]
  },
  {
   "cell_type": "code",
   "execution_count": 4,
   "metadata": {},
   "outputs": [],
   "source": [
    "train_mnist = torchvision.datasets.MNIST('data_mnist/train', train=True, \n",
    "                                                transform=transforms.Compose([transforms.ToTensor()]),  \n",
    "                                                download=True)\n",
    "val_mnist = torchvision.datasets.MNIST('data_mnist/test', train=False, \n",
    "                                               transform=transforms.Compose([transforms.ToTensor()]), \n",
    "                                               download=True)\n",
    "\n",
    "batch_size = 256\n",
    "\n",
    "train_loader = torch.utils.data.DataLoader(\n",
    "                 dataset=train_mnist,\n",
    "                 batch_size=batch_size,\n",
    "                 shuffle=True)\n",
    "val_loader = torch.utils.data.DataLoader(\n",
    "                dataset=val_mnist,\n",
    "                batch_size=batch_size,\n",
    "                shuffle=False)"
   ]
  },
  {
   "attachments": {},
   "cell_type": "markdown",
   "metadata": {},
   "source": [
    "__Создадаим fc сеть:__"
   ]
  },
  {
   "cell_type": "code",
   "execution_count": 5,
   "metadata": {},
   "outputs": [],
   "source": [
    "class FCNetwork(nn.Module):\n",
    "    def __init__(self, prob, n_inside):\n",
    "        super(FCNetwork, self).__init__() \n",
    "        self.fc1 = nn.Linear(784, n_inside)\n",
    "        self.fc2 = nn.Linear(n_inside, 10)\n",
    "        self.fc1_act = nn.ReLU()\n",
    "        self.dropout = nn.Dropout(p = prob)\n",
    "\n",
    "    def forward(self,x):\n",
    "        x = x.view(-1,28*28)\n",
    "        y = self.fc1(self.dropout(x))\n",
    "        y = self.fc1_act(y)\n",
    "        y = self.fc2(y)\n",
    "        return y"
   ]
  },
  {
   "cell_type": "markdown",
   "metadata": {},
   "source": [
    "## Пример без MLFlow:"
   ]
  },
  {
   "cell_type": "code",
   "execution_count": 6,
   "metadata": {},
   "outputs": [],
   "source": [
    "device = torch.device('cuda' if torch.cuda.is_available() else 'cpu')\n",
    "\n",
    "model = FCNetwork(prob=0.5, n_inside=100)\n",
    "model.to(device)\n",
    "\n",
    "loss_func = nn.CrossEntropyLoss()\n",
    "optimizer = torch.optim.Adam(model.parameters(), lr=1e-4)\n",
    "\n",
    "# Функция для вычисления точности\n",
    "def accuracy(y_pred, labels):\n",
    "    preds = torch.argmax(y_pred, dim=1)\n",
    "    return (preds == labels).float().mean().item()"
   ]
  },
  {
   "attachments": {},
   "cell_type": "markdown",
   "metadata": {},
   "source": [
    "Обучим сеть как обычно это делаем без трекинга в mlflow. Загружать будем локально на компьютер лучшую модель с мах test accuracy"
   ]
  },
  {
   "cell_type": "code",
   "execution_count": 7,
   "metadata": {},
   "outputs": [
    {
     "name": "stdout",
     "output_type": "stream",
     "text": [
      "The 1 Epoch of network learning is over:\n",
      "Train results Epoch 1: Train loss - 1.6956, Train accuracy - 0.6011\n",
      "Validation results Epoch 1: Val loss - 1.0384, Val accuracy - 0.8214\n",
      "Saving model because its better\n",
      "---\n",
      "The 2 Epoch of network learning is over:\n",
      "Train results Epoch 2: Train loss - 0.8647, Train accuracy - 0.8079\n",
      "Validation results Epoch 2: Val loss - 0.6138, Val accuracy - 0.8694\n",
      "Saving model because its better\n",
      "---\n",
      "The 3 Epoch of network learning is over:\n",
      "Train results Epoch 3: Train loss - 0.6273, Train accuracy - 0.8372\n",
      "Validation results Epoch 3: Val loss - 0.4750, Val accuracy - 0.8885\n",
      "Saving model because its better\n",
      "---\n",
      "The 4 Epoch of network learning is over:\n",
      "Train results Epoch 4: Train loss - 0.5404, Train accuracy - 0.8497\n",
      "Validation results Epoch 4: Val loss - 0.4102, Val accuracy - 0.8973\n",
      "Saving model because its better\n",
      "---\n",
      "The 5 Epoch of network learning is over:\n",
      "Train results Epoch 5: Train loss - 0.4925, Train accuracy - 0.8594\n",
      "Validation results Epoch 5: Val loss - 0.3736, Val accuracy - 0.9037\n",
      "Saving model because its better\n",
      "---\n"
     ]
    }
   ],
   "source": [
    "maxacc = 0\n",
    "N_epochs = 5\n",
    "\n",
    "for epoch in range(N_epochs):\n",
    "    epoch += 1\n",
    "    model.train()\n",
    "    train_loss = 0.0\n",
    "    train_acc = 0.0\n",
    "    train_samples = 0\n",
    "\n",
    "    for itr, data in enumerate(train_loader):\n",
    "        imgs = data[0].to(device)  # [B, H, W]\n",
    "        labels = data[1].to(device)\n",
    "\n",
    "        y_pred = model(imgs)  \n",
    "        loss = loss_func(y_pred, labels)\n",
    "\n",
    "        train_loss += loss.item() * imgs.size(0)\n",
    "        train_acc += accuracy(y_pred, labels) * imgs.size(0)\n",
    "        train_samples += imgs.size(0)\n",
    "        \n",
    "        optimizer.zero_grad()\n",
    "        loss.backward()\n",
    "        optimizer.step()\n",
    "\n",
    "    train_loss /= train_samples\n",
    "    train_acc /= train_samples\n",
    "    print(f'The {epoch} Epoch of network learning is over:')\n",
    "    print(f'Train results Epoch {epoch}: Train loss - {train_loss:.4f}, Train accuracy - {train_acc:.4f}')\n",
    "\n",
    "    model.eval()\n",
    "    val_loss = 0.0\n",
    "    val_acc = 0.0\n",
    "    val_samples = 0\n",
    "\n",
    "    with torch.no_grad():\n",
    "        for itr, data in enumerate(val_loader):\n",
    "            imgs = data[0].to(device)\n",
    "            labels = data[1].to(device)\n",
    "            y_pred = model(imgs)\n",
    "            loss = loss_func(y_pred, labels)\n",
    "\n",
    "            val_loss += loss.item() * imgs.size(0)\n",
    "            val_acc += accuracy(y_pred, labels) * imgs.size(0)\n",
    "            val_samples += imgs.size(0)\n",
    "\n",
    "    val_loss /= val_samples\n",
    "    val_acc /=val_samples\n",
    "    print(f'Validation results Epoch {epoch}: Val loss - {val_loss:.4f}, Val accuracy - {val_acc:.4f}')\n",
    "\n",
    "    if val_acc > maxacc:\n",
    "        print('Saving model because its better')\n",
    "        maxacc = val_acc\n",
    "        torch.save(model, f'mymodel_fc.pth')\n",
    "    print('---')"
   ]
  },
  {
   "attachments": {},
   "cell_type": "markdown",
   "metadata": {},
   "source": [
    "---"
   ]
  },
  {
   "attachments": {},
   "cell_type": "markdown",
   "metadata": {},
   "source": [
    "## Теперь воспользуемся MLFlow для трекинга экспериментов:"
   ]
  },
  {
   "cell_type": "code",
   "execution_count": 8,
   "metadata": {},
   "outputs": [
    {
     "data": {
      "text/plain": [
       "<Experiment: artifact_location='file:///C:/ML_flow_server/artefacts/419035600050725895', creation_time=1730706849000, experiment_id='419035600050725895', last_update_time=1730706849000, lifecycle_stage='active', name='PyTorch_test', tags={}>"
      ]
     },
     "execution_count": 8,
     "metadata": {},
     "output_type": "execute_result"
    }
   ],
   "source": [
    "# Инициализация MLflow\n",
    "mlflow.set_tracking_uri(\"http://localhost:5000\")\n",
    "mlflow.set_experiment(\"PyTorch_test\")"
   ]
  },
  {
   "cell_type": "code",
   "execution_count": 9,
   "metadata": {},
   "outputs": [],
   "source": [
    "# Отключаем вывод ворнингов от MLflow\n",
    "mlflow_logger = logging.getLogger(\"mlflow\")\n",
    "mlflow_logger.setLevel(logging.ERROR)"
   ]
  },
  {
   "cell_type": "code",
   "execution_count": 10,
   "metadata": {},
   "outputs": [],
   "source": [
    "device = torch.device('cuda' if torch.cuda.is_available() else 'cpu')\n",
    "prob = 0.15\n",
    "n_inside = 50\n",
    "lr = 1e-4\n",
    "epochs = 15"
   ]
  },
  {
   "cell_type": "code",
   "execution_count": 11,
   "metadata": {},
   "outputs": [
    {
     "name": "stdout",
     "output_type": "stream",
     "text": [
      "Началось обучение 1 эпохи\n",
      "The 1 Epoch of network learning is over:\n",
      "Train results Epoch 1: Train loss - 1.7878, Train accuracy - 0.5810\n",
      "Validation results Epoch 1: Val loss - 1.2519, Test accuracy - 0.7852\n",
      "Saving model because its better\n",
      "---\n",
      "Началось обучение 2 эпохи\n",
      "The 2 Epoch of network learning is over:\n",
      "Train results Epoch 2: Train loss - 0.9821, Train accuracy - 0.8149\n",
      "Validation results Epoch 2: Val loss - 0.7451, Test accuracy - 0.8519\n",
      "Saving model because its better\n",
      "---\n",
      "Началось обучение 3 эпохи\n",
      "The 3 Epoch of network learning is over:\n",
      "Train results Epoch 3: Train loss - 0.6670, Train accuracy - 0.8533\n",
      "Validation results Epoch 3: Val loss - 0.5537, Test accuracy - 0.8770\n",
      "Saving model because its better\n",
      "---\n",
      "Началось обучение 4 эпохи\n",
      "The 4 Epoch of network learning is over:\n",
      "Train results Epoch 4: Train loss - 0.5336, Train accuracy - 0.8708\n",
      "Validation results Epoch 4: Val loss - 0.4613, Test accuracy - 0.8906\n",
      "Saving model because its better\n",
      "---\n",
      "Началось обучение 5 эпохи\n",
      "The 5 Epoch of network learning is over:\n",
      "Train results Epoch 5: Train loss - 0.4630, Train accuracy - 0.8816\n",
      "Validation results Epoch 5: Val loss - 0.4071, Test accuracy - 0.8978\n",
      "Saving model because its better\n",
      "---\n",
      "Началось обучение 6 эпохи\n",
      "The 6 Epoch of network learning is over:\n",
      "Train results Epoch 6: Train loss - 0.4205, Train accuracy - 0.8887\n",
      "Validation results Epoch 6: Val loss - 0.3725, Test accuracy - 0.9041\n",
      "Saving model because its better\n",
      "---\n",
      "Началось обучение 7 эпохи\n",
      "The 7 Epoch of network learning is over:\n",
      "Train results Epoch 7: Train loss - 0.3917, Train accuracy - 0.8947\n",
      "Validation results Epoch 7: Val loss - 0.3489, Test accuracy - 0.9081\n",
      "Saving model because its better\n",
      "---\n",
      "Началось обучение 8 эпохи\n",
      "The 8 Epoch of network learning is over:\n",
      "Train results Epoch 8: Train loss - 0.3713, Train accuracy - 0.8979\n",
      "Validation results Epoch 8: Val loss - 0.3310, Test accuracy - 0.9099\n",
      "Saving model because its better\n",
      "---\n",
      "Началось обучение 9 эпохи\n",
      "The 9 Epoch of network learning is over:\n",
      "Train results Epoch 9: Train loss - 0.3548, Train accuracy - 0.9013\n",
      "Validation results Epoch 9: Val loss - 0.3177, Test accuracy - 0.9129\n",
      "Saving model because its better\n",
      "---\n",
      "Началось обучение 10 эпохи\n",
      "The 10 Epoch of network learning is over:\n",
      "Train results Epoch 10: Train loss - 0.3426, Train accuracy - 0.9040\n",
      "Validation results Epoch 10: Val loss - 0.3057, Test accuracy - 0.9150\n",
      "Saving model because its better\n",
      "---\n",
      "Началось обучение 11 эпохи\n",
      "The 11 Epoch of network learning is over:\n",
      "Train results Epoch 11: Train loss - 0.3320, Train accuracy - 0.9059\n",
      "Validation results Epoch 11: Val loss - 0.2966, Test accuracy - 0.9175\n",
      "Saving model because its better\n",
      "---\n",
      "Началось обучение 12 эпохи\n",
      "The 12 Epoch of network learning is over:\n",
      "Train results Epoch 12: Train loss - 0.3210, Train accuracy - 0.9082\n",
      "Validation results Epoch 12: Val loss - 0.2887, Test accuracy - 0.9195\n",
      "Saving model because its better\n",
      "---\n",
      "Началось обучение 13 эпохи\n",
      "The 13 Epoch of network learning is over:\n",
      "Train results Epoch 13: Train loss - 0.3147, Train accuracy - 0.9094\n",
      "Validation results Epoch 13: Val loss - 0.2819, Test accuracy - 0.9208\n",
      "Saving model because its better\n",
      "---\n",
      "Началось обучение 14 эпохи\n",
      "The 14 Epoch of network learning is over:\n",
      "Train results Epoch 14: Train loss - 0.3087, Train accuracy - 0.9121\n",
      "Validation results Epoch 14: Val loss - 0.2748, Test accuracy - 0.9243\n",
      "Saving model because its better\n",
      "---\n",
      "Началось обучение 15 эпохи\n",
      "The 15 Epoch of network learning is over:\n",
      "Train results Epoch 15: Train loss - 0.3021, Train accuracy - 0.9128\n",
      "Validation results Epoch 15: Val loss - 0.2689, Test accuracy - 0.9261\n",
      "Saving model because its better\n",
      "---\n",
      "max accuracy =  0.9261\n"
     ]
    }
   ],
   "source": [
    "# Начало MLflow запуска\n",
    "with mlflow.start_run(run_name='FCNetwork_1') as run:\n",
    "    model = FCNetwork(prob=prob, n_inside=n_inside)\n",
    "    model.to(device)\n",
    "\n",
    "    loss_func = nn.CrossEntropyLoss()\n",
    "    optimizer = torch.optim.Adam(model.parameters(), lr=lr)\n",
    "\n",
    "    mlflow.log_param(\"prob dropout\", prob)\n",
    "    mlflow.log_param(\"neurons 2 layer\", n_inside)\n",
    "    mlflow.log_param(\"lr\", lr)\n",
    "    mlflow.log_param(\"optimizer\", 'Adam')\n",
    "    mlflow.log_param(\"epochs\", epochs)\n",
    "\n",
    "    maxacc = 0\n",
    "    itr_record = 0\n",
    "\n",
    "    for epoch in range(epochs):\n",
    "        epoch += 1\n",
    "        model.train()\n",
    "        train_loss = 0.0\n",
    "        train_acc = 0.0\n",
    "        train_samples = 0\n",
    "\n",
    "        print(f'Началось обучение {epoch} эпохи')\n",
    "        for itr, data in enumerate(train_loader):\n",
    "            imgs = data[0].to(device)  # [B, H, W]\n",
    "            labels = data[1].to(device)\n",
    "\n",
    "            y_pred = model(imgs) \n",
    "            loss = loss_func(y_pred, labels)\n",
    "\n",
    "            train_loss += loss.item() * imgs.size(0)\n",
    "            train_acc += accuracy(y_pred, labels) * imgs.size(0)\n",
    "            train_samples += imgs.size(0)\n",
    "\n",
    "            optimizer.zero_grad()\n",
    "            loss.backward()\n",
    "            optimizer.step()\n",
    "\n",
    "        train_loss /= train_samples\n",
    "        train_acc /= train_samples\n",
    "        mlflow.log_metric(\"train_loss\", train_loss, step=epoch)\n",
    "        mlflow.log_metric(\"train_acc\", train_acc, step=epoch)\n",
    "        print(f'The {epoch} Epoch of network learning is over:')\n",
    "        print(f'Train results Epoch {epoch}: Train loss - {train_loss:.4f}, Train accuracy - {train_acc:.4f}')\n",
    "\n",
    "        model.eval()\n",
    "        val_loss = 0.0\n",
    "        val_acc = 0.0\n",
    "        val_samples = 0\n",
    "\n",
    "        with torch.no_grad():\n",
    "            for itr, data in enumerate(val_loader):\n",
    "                imgs = data[0].to(device)\n",
    "                labels = data[1].to(device)\n",
    "                y_pred = model(imgs)\n",
    "                loss = loss_func(y_pred, labels)\n",
    "\n",
    "                val_loss += loss.item() * imgs.size(0)\n",
    "                val_acc += accuracy(y_pred, labels) * imgs.size(0)\n",
    "                val_samples += imgs.size(0)\n",
    "\n",
    "        val_loss /= val_samples\n",
    "        val_acc /= val_samples\n",
    "        mlflow.log_metric(\"val_loss\", val_loss, step=epoch)\n",
    "        mlflow.log_metric(\"val_acc\", val_acc, step=epoch)\n",
    "        print(f'Validation results Epoch {epoch}: Val loss - {val_loss:.4f}, Test accuracy - {val_acc:.4f}')\n",
    "\n",
    "        if val_acc > maxacc:\n",
    "            print('Saving model because its better')\n",
    "            maxacc = val_acc\n",
    "            mlflow.pytorch.log_model(model, \"model\")\n",
    "        print('---')\n",
    "\n",
    "    print('max accuracy = ', maxacc)\n",
    "    mlflow.log_metric(\"max val accuracy\", maxacc)\n",
    "\n",
    "mlflow.end_run()"
   ]
  },
  {
   "cell_type": "markdown",
   "metadata": {},
   "source": [
    "---"
   ]
  },
  {
   "cell_type": "markdown",
   "metadata": {},
   "source": [
    "## Запуск обученной модели:"
   ]
  },
  {
   "cell_type": "code",
   "execution_count": 12,
   "metadata": {},
   "outputs": [],
   "source": [
    "def load_model(model_uri):\n",
    "    \"\"\"Загрузка модели из MLflow.\"\"\"\n",
    "    model = mlflow.pytorch.load_model(model_uri)\n",
    "    model.eval()  # Переводим модель в режим оценки\n",
    "    return model\n",
    "\n",
    "def predict(model, input_data):\n",
    "    \"\"\"Выполнение инференса.\"\"\"\n",
    "    with torch.no_grad():\n",
    "        output = model(input_data)\n",
    "    return output"
   ]
  },
  {
   "cell_type": "code",
   "execution_count": 13,
   "metadata": {},
   "outputs": [
    {
     "name": "stdout",
     "output_type": "stream",
     "text": [
      "tensor([[ 1.5928,  1.1507,  4.4580, -0.3509, -4.3244,  0.7749,  0.1126, -6.8168,\n",
      "          1.2436, -6.6594]], device='cuda:0')\n"
     ]
    }
   ],
   "source": [
    "model_uri = \"runs:/ef937515149145ddbfb16b90e3e71b20/model\"  # Замените <run_id> на реальный идентификатор запуска\n",
    "loaded_model = load_model(model_uri).to(device)\n",
    "loaded_model.eval()\n",
    "\n",
    "# Пример входных данных\n",
    "input_data = torch.randn(1, 1, 28, 28).to(device)\n",
    "\n",
    "# Выполнение инференса\n",
    "output = predict(loaded_model, input_data)\n",
    "print(output)"
   ]
  },
  {
   "cell_type": "code",
   "execution_count": 14,
   "metadata": {},
   "outputs": [
    {
     "data": {
      "image/png": "[encoded data removed]",
      "text/plain": [
       "<Figure size 640x480 with 1 Axes>"
      ]
     },
     "metadata": {},
     "output_type": "display_data"
    },
    {
     "data": {
      "image/png": "[encoded data removed]",
      "text/plain": [
       "<Figure size 640x480 with 1 Axes>"
      ]
     },
     "metadata": {},
     "output_type": "display_data"
    },
    {
     "data": {
      "image/png": "[encoded data removed]",
      "text/plain": [
       "<Figure size 640x480 with 1 Axes>"
      ]
     },
     "metadata": {},
     "output_type": "display_data"
    },
    {
     "data": {
      "image/png": "[encoded data removed]",
      "text/plain": [
       "<Figure size 640x480 with 1 Axes>"
      ]
     },
     "metadata": {},
     "output_type": "display_data"
    }
   ],
   "source": [
    "with torch.no_grad():\n",
    "    for itr,data in enumerate(val_loader):\n",
    "        if itr == 0:\n",
    "            imgs = data[0].to(device)   #b,c,w,h\n",
    "            labels = data[1].to(device)\n",
    "            y_pred = predict(loaded_model, imgs)\n",
    "            y_pred = torch.argmax(y_pred, dim=1)\n",
    "            for i in range(4):\n",
    "                im = np.transpose((imgs[i].cpu().numpy()), (1, 2, 0))\n",
    "                plt.figure()\n",
    "                plt.imshow(im)  #w,h,c\n",
    "                plt.title(y_pred[i].cpu().numpy())\n",
    "                plt.show()"
   ]
  },
  {
   "attachments": {},
   "cell_type": "markdown",
   "metadata": {},
   "source": [
    "___"
   ]
  }
 ],
 "metadata": {
  "kernelspec": {
   "display_name": "patched_yolo_infer",
   "language": "python",
   "name": "python3"
  },
  "language_info": {
   "codemirror_mode": {
    "name": "ipython",
    "version": 3
   },
   "file_extension": ".py",
   "mimetype": "text/x-python",
   "name": "python",
   "nbconvert_exporter": "python",
   "pygments_lexer": "ipython3",
   "version": "3.11.8"
  },
  "orig_nbformat": 4
 },
 "nbformat": 4,
 "nbformat_minor": 2
}
